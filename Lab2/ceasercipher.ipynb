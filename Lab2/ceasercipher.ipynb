{
 "cells": [
  {
   "cell_type": "code",
   "execution_count": null,
   "metadata": {},
   "outputs": [],
   "source": [
    "letters = \"abcdefghijklmnopqrstuvwxyz\"\n",
    "\n",
    "def decrypt(ciphertext,key):\n",
    "  plaintext = \"\"\n",
    "  for letter in ciphertext:\n",
    "    letter = letter.lower()\n",
    "    if letter not in letters:\n",
    "      plaintext += letter\n",
    "    else:\n",
    "      index = letters.find(letter)\n",
    "      new_index = index - key\n",
    "      if new_index <0:\n",
    "        new_index += 26\n",
    "      plaintext += letters[new_index]\n",
    "  return plaintext\n",
    "\n",
    "ciphertext = \"ftqzqjfwuxxqdmbbiuxxoaynuzqoxagpymotuzqxqmdzuzsuafmzpnxaowotmuz\"\n",
    "key = 1\n",
    "print(decrypt(ciphertext,key))"
   ]
  },
  {
   "cell_type": "code",
   "execution_count": null,
   "metadata": {},
   "outputs": [],
   "source": [
    "for k in range(1,26):\n",
    "  print(f\" key: {k} decrypted_text: {decrypt(ciphertext,k)}\")\n",
    "  print()"
   ]
  }
 ],
 "metadata": {
  "language_info": {
   "name": "python"
  },
  "orig_nbformat": 4
 },
 "nbformat": 4,
 "nbformat_minor": 2
}
